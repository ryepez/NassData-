{
 "cells": [
  {
   "cell_type": "markdown",
   "metadata": {},
   "source": [
    "# USDA-NASS CropScape Data\n",
    "The following code takes data coordinates and returns a list with information from the crop for the location. This is an experimental notebook so you guys can see what I tried. At the end, I have a function that takes latitude and longitude coordinates and returns a dataframe with the following columns: <b>year,x, y, value, category, color, Log, Lat. </b>"
   ]
  },
  {
   "cell_type": "code",
   "execution_count": 1,
   "metadata": {},
   "outputs": [],
   "source": [
    "import requests\n",
    "import urllib3\n",
    "# I am disabling the annoying warning signs. \n",
    "urllib3.disable_warnings(urllib3.exceptions.InsecureRequestWarning)\n",
    "\n",
    "\n",
    "#I will try the sample code from \n",
    "# https://nassgeodata.gmu.edu/CropScape/devhelp/help.html\n",
    "#Maybe we should use another method since I turned off the verification of certificates.\n",
    "response = requests.get('https://nassgeodata.gmu.edu/axis2/services/CDLService/GetCDLValue?year=2018&x=1551565.363&y=1909363.537', verify=False)"
   ]
  },
  {
   "cell_type": "code",
   "execution_count": 2,
   "metadata": {},
   "outputs": [
    {
     "data": {
      "text/plain": [
       "<Result>{x: 1551565.363, y: 1909363.537, value: 1, category: \"Corn\", color: \"#FFD400\"}</Result>"
      ]
     },
     "execution_count": 2,
     "metadata": {},
     "output_type": "execute_result"
    }
   ],
   "source": [
    "import pandas as pd\n",
    "from bs4 import BeautifulSoup\n",
    "\n",
    "#getting the data from the results section. \n",
    "soup = BeautifulSoup(response.content,'xml')\n",
    "table = soup.find_all('Result')[0] \n",
    "table"
   ]
  },
  {
   "cell_type": "code",
   "execution_count": 3,
   "metadata": {},
   "outputs": [],
   "source": [
    "import re    \n",
    "#cleaning the data. \n",
    "reg = str(table)\n",
    "reg = re.findall('{(.+?)}', reg)\n",
    "\n",
    "my_list = str(reg).replace(\"'\", \"\")\n",
    "my_listp = str(my_list).replace(\"[\", \"\")\n",
    "my_listp = str(my_listp).replace(\"]\", \"\")\n",
    "my_listp = str(my_listp).replace(\" \", \"\")\n",
    "\n",
    "#putting the data on a list \n",
    "my_list = my_listp.split(\",\")\n",
    "\n",
    "l = []\n",
    "for i in range(0, len(my_list)):\n",
    "    l.append(my_list[i].split(':'))"
   ]
  },
  {
   "cell_type": "code",
   "execution_count": 4,
   "metadata": {},
   "outputs": [],
   "source": [
    "# Loops to get names of columns and values \n",
    "columns_names = []\n",
    "for i in range(0,len(l)):\n",
    "    columns_names.append(l[i][0])\n",
    "\n",
    "value = []\n",
    "for i in range(0,len(l)):\n",
    "    value.append(l[i][1])"
   ]
  },
  {
   "cell_type": "code",
   "execution_count": 5,
   "metadata": {},
   "outputs": [
    {
     "data": {
      "text/html": [
       "<div>\n",
       "<style scoped>\n",
       "    .dataframe tbody tr th:only-of-type {\n",
       "        vertical-align: middle;\n",
       "    }\n",
       "\n",
       "    .dataframe tbody tr th {\n",
       "        vertical-align: top;\n",
       "    }\n",
       "\n",
       "    .dataframe thead tr th {\n",
       "        text-align: left;\n",
       "    }\n",
       "</style>\n",
       "<table border=\"1\" class=\"dataframe\">\n",
       "  <thead>\n",
       "    <tr>\n",
       "      <th></th>\n",
       "      <th>x</th>\n",
       "      <th>y</th>\n",
       "      <th>value</th>\n",
       "      <th>category</th>\n",
       "      <th>color</th>\n",
       "    </tr>\n",
       "  </thead>\n",
       "  <tbody>\n",
       "    <tr>\n",
       "      <th>0</th>\n",
       "      <td>1551565.363</td>\n",
       "      <td>1909363.537</td>\n",
       "      <td>1</td>\n",
       "      <td>Corn</td>\n",
       "      <td>#FFD400</td>\n",
       "    </tr>\n",
       "  </tbody>\n",
       "</table>\n",
       "</div>"
      ],
      "text/plain": [
       "             x            y value category    color\n",
       "0  1551565.363  1909363.537     1     Corn  #FFD400"
      ]
     },
     "execution_count": 5,
     "metadata": {},
     "output_type": "execute_result"
    }
   ],
   "source": [
    "#create dataframe from columns \n",
    "dfObj = pd.DataFrame(value, index=[columns_names])\n",
    "df = dfObj.applymap(lambda x: x.replace('\"', ''))\n",
    "df = df.T\n",
    "df"
   ]
  },
  {
   "cell_type": "markdown",
   "metadata": {},
   "source": [
    "## Below is a function with the code above. It takes the values (x, y, year) in the USA Contiguous Albers Equal Area Conic (USGS version) format and returns a dataframe. "
   ]
  },
  {
   "cell_type": "code",
   "execution_count": 6,
   "metadata": {},
   "outputs": [],
   "source": [
    "import requests\n",
    "import pandas as pd\n",
    "import requests\n",
    "from bs4 import BeautifulSoup\n",
    "import timeit\n",
    "\n",
    "def NASSData(x,y,year):\n",
    "    url = 'https://nassgeodata.gmu.edu/axis2/services/CDLService/GetCDLValue?year=' + str(year) + '&x=' + str(x) + '&y=' + str(y) \n",
    "    response = requests.get(url, verify=False)\n",
    "\n",
    "    #getting the data from the result section. \n",
    "    soup = BeautifulSoup(response.content,'xml')\n",
    "    table = soup.find_all('Result')[0] \n",
    "    \n",
    "    #cleaning the data.\n",
    "    reg = str(table)\n",
    "    reg = re.findall('{(.+?)}', reg)\n",
    "\n",
    "    my_list = str(reg).replace(\"'\", \"\")\n",
    "    my_listp = str(my_list).replace(\"[\", \"\")\n",
    "    my_listp = str(my_listp).replace(\"]\", \"\")\n",
    "    my_listp = str(my_listp).replace(\" \", \"\")\n",
    "\n",
    "\n",
    "    my_list = my_listp.split(\",\")\n",
    "\n",
    "    l = []\n",
    "    for i in range(0, len(my_list)):\n",
    "        l.append(my_list[i].split(':'))\n",
    "        \n",
    "# Loops to get values on one list and column names on the other. \n",
    "    columns_names = []\n",
    "    for i in range(0,len(l)):\n",
    "        columns_names.append(l[i][0])\n",
    "\n",
    "    value = []\n",
    "    for i in range(0,len(l)):\n",
    "        value.append(l[i][1])\n",
    "        \n",
    "#create dataframe from columns \n",
    "    dfObj = pd.DataFrame(value, index=[columns_names])\n",
    "    df = dfObj.applymap(lambda x: x.replace('\"', ''))\n",
    "    df = df.T\n",
    "    \n",
    "    return(df)"
   ]
  },
  {
   "cell_type": "code",
   "execution_count": 7,
   "metadata": {},
   "outputs": [
    {
     "data": {
      "text/html": [
       "<div>\n",
       "<style scoped>\n",
       "    .dataframe tbody tr th:only-of-type {\n",
       "        vertical-align: middle;\n",
       "    }\n",
       "\n",
       "    .dataframe tbody tr th {\n",
       "        vertical-align: top;\n",
       "    }\n",
       "\n",
       "    .dataframe thead tr th {\n",
       "        text-align: left;\n",
       "    }\n",
       "</style>\n",
       "<table border=\"1\" class=\"dataframe\">\n",
       "  <thead>\n",
       "    <tr>\n",
       "      <th></th>\n",
       "      <th>x</th>\n",
       "      <th>y</th>\n",
       "      <th>value</th>\n",
       "      <th>category</th>\n",
       "      <th>color</th>\n",
       "    </tr>\n",
       "  </thead>\n",
       "  <tbody>\n",
       "    <tr>\n",
       "      <th>0</th>\n",
       "      <td>1551565.363</td>\n",
       "      <td>1909363.537</td>\n",
       "      <td>26</td>\n",
       "      <td>DblCropWinWht/Soybeans</td>\n",
       "      <td>#737300</td>\n",
       "    </tr>\n",
       "  </tbody>\n",
       "</table>\n",
       "</div>"
      ],
      "text/plain": [
       "             x            y value                category    color\n",
       "0  1551565.363  1909363.537    26  DblCropWinWht/Soybeans  #737300"
      ]
     },
     "execution_count": 7,
     "metadata": {},
     "output_type": "execute_result"
    }
   ],
   "source": [
    "# Example \n",
    "NASSData(1551565.363,1909363.537,2015)"
   ]
  },
  {
   "cell_type": "markdown",
   "metadata": {},
   "source": [
    "# The function below instead of returning a dataframe, it returns one list. "
   ]
  },
  {
   "cell_type": "code",
   "execution_count": 8,
   "metadata": {},
   "outputs": [],
   "source": [
    "import requests\n",
    "import pandas as pd\n",
    "import requests\n",
    "from bs4 import BeautifulSoup\n",
    "\n",
    "def NASSData_df(x,y,year):\n",
    "    url = 'https://nassgeodata.gmu.edu/axis2/services/CDLService/GetCDLValue?year=' + str(year) + '&x=' + str(x) + '&y=' + str(y) \n",
    "    response = requests.get(url, verify=False)\n",
    "\n",
    "    #getting the data from the resuls section. \n",
    "    soup = BeautifulSoup(response.content,'xml')\n",
    "    table = soup.find_all('Result')[0] \n",
    "    \n",
    "    #cleaning the data. I will change delete results and things like that \n",
    "    reg = str(table)\n",
    "    reg = re.findall('{(.+?)}', reg)\n",
    "\n",
    "    my_list = str(reg).replace(\"'\", \"\")\n",
    "    my_listp = str(my_list).replace(\"[\", \"\")\n",
    "    my_listp = str(my_listp).replace(\"]\", \"\")\n",
    "    my_listp = str(my_listp).replace(\" \", \"\")\n",
    "\n",
    "\n",
    "    my_list = my_listp.split(\",\")\n",
    "\n",
    "    l = []\n",
    "    for i in range(0, len(my_list)):\n",
    "        l.append(my_list[i].split(':'))\n",
    "\n",
    "    value = []\n",
    "    for i in range(0,len(l)):\n",
    "        value.append(l[i][1])\n",
    "    return(value)"
   ]
  },
  {
   "cell_type": "code",
   "execution_count": 9,
   "metadata": {},
   "outputs": [
    {
     "data": {
      "text/plain": [
       "[['-2172422.0', '1968187.0', '69', '\"Grapes\"', '\"#704489\"'],\n",
       " ['-2172422.0', '1968187.0', '69', '\"Grapes\"', '\"#704489\"'],\n",
       " ['-2172422.0', '1968187.0', '69', '\"Grapes\"', '\"#704489\"'],\n",
       " ['-2172422.0', '1968187.0', '69', '\"Grapes\"', '\"#704489\"'],\n",
       " ['-2172422.0', '1968187.0', '69', '\"Grapes\"', '\"#704489\"'],\n",
       " ['-2172422.0', '1968187.0', '69', '\"Grapes\"', '\"#704489\"'],\n",
       " ['-2172422.0', '1968187.0', '69', '\"Grapes\"', '\"#704489\"'],\n",
       " ['-2172422.0', '1968187.0', '69', '\"Grapes\"', '\"#704489\"']]"
      ]
     },
     "execution_count": 9,
     "metadata": {},
     "output_type": "execute_result"
    }
   ],
   "source": [
    "#Getting for data for one location between 2010 and 2017\n",
    "p = []\n",
    "for i in range(2010, 2018):\n",
    "    casa = NASSData_df(-2172422,1968187,i)\n",
    "    p.append(casa)\n",
    "p"
   ]
  },
  {
   "cell_type": "code",
   "execution_count": 10,
   "metadata": {},
   "outputs": [
    {
     "data": {
      "text/html": [
       "<div>\n",
       "<style scoped>\n",
       "    .dataframe tbody tr th:only-of-type {\n",
       "        vertical-align: middle;\n",
       "    }\n",
       "\n",
       "    .dataframe tbody tr th {\n",
       "        vertical-align: top;\n",
       "    }\n",
       "\n",
       "    .dataframe thead th {\n",
       "        text-align: right;\n",
       "    }\n",
       "</style>\n",
       "<table border=\"1\" class=\"dataframe\">\n",
       "  <thead>\n",
       "    <tr style=\"text-align: right;\">\n",
       "      <th></th>\n",
       "      <th>x</th>\n",
       "      <th>y</th>\n",
       "      <th>value</th>\n",
       "      <th>category</th>\n",
       "      <th>color</th>\n",
       "    </tr>\n",
       "  </thead>\n",
       "  <tbody>\n",
       "    <tr>\n",
       "      <th>0</th>\n",
       "      <td>-2172422.0</td>\n",
       "      <td>1968187.0</td>\n",
       "      <td>69</td>\n",
       "      <td>Grapes</td>\n",
       "      <td>#704489</td>\n",
       "    </tr>\n",
       "    <tr>\n",
       "      <th>1</th>\n",
       "      <td>-2172422.0</td>\n",
       "      <td>1968187.0</td>\n",
       "      <td>69</td>\n",
       "      <td>Grapes</td>\n",
       "      <td>#704489</td>\n",
       "    </tr>\n",
       "    <tr>\n",
       "      <th>2</th>\n",
       "      <td>-2172422.0</td>\n",
       "      <td>1968187.0</td>\n",
       "      <td>69</td>\n",
       "      <td>Grapes</td>\n",
       "      <td>#704489</td>\n",
       "    </tr>\n",
       "    <tr>\n",
       "      <th>3</th>\n",
       "      <td>-2172422.0</td>\n",
       "      <td>1968187.0</td>\n",
       "      <td>69</td>\n",
       "      <td>Grapes</td>\n",
       "      <td>#704489</td>\n",
       "    </tr>\n",
       "    <tr>\n",
       "      <th>4</th>\n",
       "      <td>-2172422.0</td>\n",
       "      <td>1968187.0</td>\n",
       "      <td>69</td>\n",
       "      <td>Grapes</td>\n",
       "      <td>#704489</td>\n",
       "    </tr>\n",
       "    <tr>\n",
       "      <th>5</th>\n",
       "      <td>-2172422.0</td>\n",
       "      <td>1968187.0</td>\n",
       "      <td>69</td>\n",
       "      <td>Grapes</td>\n",
       "      <td>#704489</td>\n",
       "    </tr>\n",
       "    <tr>\n",
       "      <th>6</th>\n",
       "      <td>-2172422.0</td>\n",
       "      <td>1968187.0</td>\n",
       "      <td>69</td>\n",
       "      <td>Grapes</td>\n",
       "      <td>#704489</td>\n",
       "    </tr>\n",
       "    <tr>\n",
       "      <th>7</th>\n",
       "      <td>-2172422.0</td>\n",
       "      <td>1968187.0</td>\n",
       "      <td>69</td>\n",
       "      <td>Grapes</td>\n",
       "      <td>#704489</td>\n",
       "    </tr>\n",
       "  </tbody>\n",
       "</table>\n",
       "</div>"
      ],
      "text/plain": [
       "            x          y value category    color\n",
       "0  -2172422.0  1968187.0    69   Grapes  #704489\n",
       "1  -2172422.0  1968187.0    69   Grapes  #704489\n",
       "2  -2172422.0  1968187.0    69   Grapes  #704489\n",
       "3  -2172422.0  1968187.0    69   Grapes  #704489\n",
       "4  -2172422.0  1968187.0    69   Grapes  #704489\n",
       "5  -2172422.0  1968187.0    69   Grapes  #704489\n",
       "6  -2172422.0  1968187.0    69   Grapes  #704489\n",
       "7  -2172422.0  1968187.0    69   Grapes  #704489"
      ]
     },
     "execution_count": 10,
     "metadata": {},
     "output_type": "execute_result"
    }
   ],
   "source": [
    "#puting the list in a dataframe\n",
    "t = pd.DataFrame(p)\n",
    "t = t.applymap(lambda x: x.replace('\"', ''))\n",
    "t.rename(columns={0: \"x\", 1: \"y\", 2: \"value\", 3: \"category\", 4: \"color\"})"
   ]
  },
  {
   "cell_type": "markdown",
   "metadata": {},
   "source": [
    "## Convertidor de coordinadas \n",
    "As we saw above, we need a coordinate converter so we can send latitude and longitude coordinates."
   ]
  },
  {
   "cell_type": "code",
   "execution_count": 12,
   "metadata": {},
   "outputs": [],
   "source": [
    "import numpy as np\n",
    "\n",
    "from shapely.geometry import Point\n",
    "from functools import partial\n",
    "import pyproj\n",
    "from shapely.ops import transform\n",
    "\n",
    "def converter(x, y):\n",
    "    point1 = Point(x, y)\n",
    "    project = partial(\n",
    "        pyproj.transform,\n",
    "        #takes latitude and longitude\n",
    "        pyproj.Proj(init='epsg:4326'),\n",
    "        #makes the format needed for CropScape\n",
    "        pyproj.Proj(init='epsg:5071')) \n",
    "\n",
    "    point2 = transform(project, point1)\n",
    "    coordinates_array = np.asarray(point2)\n",
    "    coordinadas = np.around(coordinates_array, decimals=0)\n",
    "    return(coordinadas)"
   ]
  },
  {
   "cell_type": "code",
   "execution_count": null,
   "metadata": {},
   "outputs": [],
   "source": [
    "#example\n",
    "values = converter(-121.3627, 38.1345)\n",
    "values"
   ]
  },
  {
   "cell_type": "code",
   "execution_count": null,
   "metadata": {},
   "outputs": [],
   "source": [
    "#Testing the two functions together\n",
    "values = converter(-122.44493, 38.4621)\n",
    "NASSData(values[0],values[1],2015)"
   ]
  },
  {
   "cell_type": "markdown",
   "metadata": {},
   "source": [
    "# Now let's say we want to get the data for one location for a range of years."
   ]
  },
  {
   "cell_type": "code",
   "execution_count": null,
   "metadata": {},
   "outputs": [],
   "source": [
    "import urllib3\n",
    "# I am disabling the annoying warning signs. \n",
    "urllib3.disable_warnings(urllib3.exceptions.InsecureRequestWarning)\n",
    "\n",
    "lugares = []\n",
    "ys = []\n",
    "\n",
    "for year, r in zip(range(2007, 2019), range(2007, 2019)):\n",
    "    ys.append(r)\n",
    "    lugares.append(NASSData_df(-2176010, 1970005, year))\n",
    "    \n",
    "#cleaning the data\n",
    "t = pd.DataFrame(lugares, ys)\n",
    "t = t.applymap(lambda x: x.replace('\"', ''))\n",
    "t = t.rename(columns={0: \"x\", 1: \"y\", 2: \"value\", 3: \"category\", 4: \"color\"})\n",
    "\n",
    "t"
   ]
  },
  {
   "cell_type": "markdown",
   "metadata": {},
   "source": [
    "### Function takes latitude and longtitude coordinates and year(s).  It returns a dataframe  with the following columns: year,x, y, value, category, color, Log, and Lat."
   ]
  },
  {
   "cell_type": "code",
   "execution_count": null,
   "metadata": {},
   "outputs": [],
   "source": [
    "def CropScape(log, lat, yr_Start, yr_End):\n",
    "    \n",
    "    lugares = []\n",
    "    yr = yr_Start\n",
    "    yr1 = yr_End+1\n",
    "    ys = []\n",
    "    \n",
    "    valores = converter(log, lat)\n",
    "\n",
    "    for year, r in zip(range(yr, yr1), range(yr, yr1)):\n",
    "        ys.append(r)\n",
    "        lugares.append(NASSData_df(valores[0],valores[1], year))\n",
    "        df_size = len(lugares)\n",
    "        \n",
    "    #cleaning the data\n",
    "    t = pd.DataFrame(lugares, ys)\n",
    "    t = t.applymap(lambda x: x.replace('\"', ''))\n",
    "    t = t.rename(columns={0: \"x\", 1: \"y\", 2: \"value\", 3: \"category\", 4: \"color\"})\n",
    "    t['Log'] = log\n",
    "    t['Lat'] = lat \n",
    "    return(t)"
   ]
  },
  {
   "cell_type": "markdown",
   "metadata": {},
   "source": [
    "### I will test it now. <br /> Lat = -121.3003 and Log = 38.0605  <br /> Years: 2011 to 2018"
   ]
  },
  {
   "cell_type": "code",
   "execution_count": null,
   "metadata": {},
   "outputs": [],
   "source": [
    "CropScape(-121.3003, 38.0605, 2011, 2018)"
   ]
  },
  {
   "cell_type": "markdown",
   "metadata": {},
   "source": [
    "# Getting data for the same location but only for one year."
   ]
  },
  {
   "cell_type": "code",
   "execution_count": null,
   "metadata": {},
   "outputs": [],
   "source": [
    "CropScape(-121.3003, 38.0605, 2017, 2017)"
   ]
  },
  {
   "cell_type": "code",
   "execution_count": null,
   "metadata": {},
   "outputs": [],
   "source": []
  }
 ],
 "metadata": {
  "kernelspec": {
   "display_name": "Python 3",
   "language": "python",
   "name": "python3"
  },
  "language_info": {
   "codemirror_mode": {
    "name": "ipython",
    "version": 3
   },
   "file_extension": ".py",
   "mimetype": "text/x-python",
   "name": "python",
   "nbconvert_exporter": "python",
   "pygments_lexer": "ipython3",
   "version": "3.7.3"
  }
 },
 "nbformat": 4,
 "nbformat_minor": 2
}
